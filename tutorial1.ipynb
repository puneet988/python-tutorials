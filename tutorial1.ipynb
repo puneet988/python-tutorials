{
 "cells": [
  {
   "cell_type": "markdown",
   "metadata": {},
   "source": [
    "# Introduction to python"
   ]
  },
  {
   "cell_type": "markdown",
   "metadata": {},
   "source": [
    "Puneet Sharma (puneet.988 at gmail.com)\n",
    "\n",
    "All the lectures of ipython notebooks [IPython notebook](http://ipython.org/notebook.html) are available at [https://github.com/puneet988/python-tutorials](https://github.com/puneet988/python-tutorials)."
   ]
  },
  {
   "cell_type": "markdown",
   "metadata": {},
   "source": [
    "# Python jargons\n",
    "\n",
    "Python is a dynamic language like matlab. There is no need to define type of any variable like we do in C or FORTRAN.\n",
    "For example\n"
   ]
  },
  {
   "cell_type": "code",
   "execution_count": 24,
   "metadata": {},
   "outputs": [],
   "source": [
    "a = 2.0"
   ]
  },
  {
   "cell_type": "code",
   "execution_count": 25,
   "metadata": {},
   "outputs": [],
   "source": [
    "b = 'hello'"
   ]
  },
  {
   "cell_type": "code",
   "execution_count": 26,
   "metadata": {},
   "outputs": [
    {
     "name": "stdout",
     "output_type": "stream",
     "text": [
      "2.0 hello\n"
     ]
    }
   ],
   "source": [
    "print a,b"
   ]
  },
  {
   "cell_type": "markdown",
   "metadata": {},
   "source": [
    "We do not define the type of the variable a or b. Python automatically assign the type.\n",
    "\n",
    "Basic types are\n",
    "\n",
    "* String\n",
    "* Number\n",
    "    - Integer\n",
    "    - Long\n",
    "    - Float\n",
    "    - Complex\n",
    "* Set"
   ]
  },
  {
   "cell_type": "markdown",
   "metadata": {},
   "source": [
    "Each variable has with it associated methods. Methods are the operations which can be operated on a variable. Example type a. and press tab"
   ]
  },
  {
   "cell_type": "code",
   "execution_count": null,
   "metadata": {},
   "outputs": [],
   "source": [
    "a."
   ]
  },
  {
   "cell_type": "markdown",
   "metadata": {},
   "source": [
    "The drop down list after a. are the methods which can be applied on a, a being a type float. You can check the type of variable using parenthesis. "
   ]
  },
  {
   "cell_type": "code",
   "execution_count": 27,
   "metadata": {},
   "outputs": [
    {
     "data": {
      "text/plain": [
       "float"
      ]
     },
     "execution_count": 27,
     "metadata": {},
     "output_type": "execute_result"
    }
   ],
   "source": [
    "type(a)"
   ]
  },
  {
   "cell_type": "markdown",
   "metadata": {},
   "source": [
    "Mathematical operations are normal just like in matlab"
   ]
  },
  {
   "cell_type": "markdown",
   "metadata": {},
   "source": [
    "## Data structures in python\n",
    "\n",
    "Python has three important data structures\n",
    "\n",
    "* List\n",
    "* Tuple\n",
    "* Dictionary\n",
    "\n",
    "Use of each data structure will be explained further"
   ]
  },
  {
   "cell_type": "markdown",
   "metadata": {},
   "source": [
    "## List\n",
    "\n",
    "List is a data structure which can hold items regardless of their type. List can hold integers, strings, complex numbers etc. List is created by entering comma seperated items in square brackets. Example"
   ]
  },
  {
   "cell_type": "code",
   "execution_count": 6,
   "metadata": {},
   "outputs": [],
   "source": [
    "a_list = [1,2,3,'hello']"
   ]
  },
  {
   "cell_type": "markdown",
   "metadata": {},
   "source": [
    "Now we talk about mutable and immutable data structures. \n",
    "\n",
    "* Mutable data structures are those data structures which can be altered in place. Which means we can delete an item, replace an item inside that data structure.\n",
    "\n",
    "* Immutable data structures are those data structures which can not be altered in place. We can make copy of it with the changes to a different variable but we can not make any in place changes "
   ]
  },
  {
   "cell_type": "markdown",
   "metadata": {},
   "source": [
    "For example list is a mutable data structure. "
   ]
  }
 ],
 "metadata": {
  "kernelspec": {
   "display_name": "Python [conda env:uvcdat2_12]",
   "language": "python",
   "name": "conda-env-uvcdat2_12-py"
  },
  "language_info": {
   "codemirror_mode": {
    "name": "ipython",
    "version": 2
   },
   "file_extension": ".py",
   "mimetype": "text/x-python",
   "name": "python",
   "nbconvert_exporter": "python",
   "pygments_lexer": "ipython2",
   "version": "2.7.14"
  },
  "toc": {
   "nav_menu": {},
   "number_sections": true,
   "sideBar": true,
   "skip_h1_title": false,
   "title_cell": "Table of Contents",
   "title_sidebar": "Contents",
   "toc_cell": false,
   "toc_position": {},
   "toc_section_display": true,
   "toc_window_display": false
  }
 },
 "nbformat": 4,
 "nbformat_minor": 2
}
